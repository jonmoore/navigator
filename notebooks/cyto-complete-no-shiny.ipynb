{
 "cells": [
  {
   "cell_type": "code",
   "execution_count": null,
   "id": "958d6369-90b6-4343-a4fc-dc16d4c8fdbe",
   "metadata": {},
   "outputs": [],
   "source": [
    "import ipycytoscape\n",
    "import networkx as nx"
   ]
  },
  {
   "cell_type": "code",
   "execution_count": null,
   "id": "7fd56922-93ac-4e62-8028-545be233fbdb",
   "metadata": {},
   "outputs": [],
   "source": [
    "graph = nx.complete_graph(8)\n",
    "\n",
    "cytoscape_obj = ipycytoscape.CytoscapeWidget()\n",
    "\n",
    "cytoscape_obj.graph.add_graph_from_networkx(graph)\n",
    "\n",
    "cytoscape_obj"
   ]
  }
 ],
 "metadata": {
  "kernelspec": {
   "display_name": "Python 3 (ipykernel)",
   "language": "python",
   "name": "python3"
  },
  "language_info": {
   "codemirror_mode": {
    "name": "ipython",
    "version": 3
   },
   "file_extension": ".py",
   "mimetype": "text/x-python",
   "name": "python",
   "nbconvert_exporter": "python",
   "pygments_lexer": "ipython3",
   "version": "3.13.2"
  }
 },
 "nbformat": 4,
 "nbformat_minor": 5
}
