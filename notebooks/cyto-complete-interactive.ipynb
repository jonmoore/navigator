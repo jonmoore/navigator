{
 "cells": [
  {
   "cell_type": "markdown",
   "id": "58c41dfe-b03e-447a-b56b-eabe38df8d15",
   "metadata": {},
   "source": [
    "This example shows that ipyctoscape has bugs with even the simplest updates to graphs after they have been displayed.  See also https://github.com/cytoscape/ipycytoscape/issues/322"
   ]
  },
  {
   "cell_type": "code",
   "execution_count": null,
   "id": "d8653d17-272a-421f-a92b-59a04596461c",
   "metadata": {},
   "outputs": [],
   "source": [
    "import ipycytoscape\n",
    "import networkx as nx\n",
    "from IPython.display import display\n",
    "\n",
    "graph = nx.complete_graph(2)\n",
    "cyto = ipycytoscape.CytoscapeWidget()\n",
    "cyto.graph.add_graph_from_networkx(graph)\n",
    "[node.data['id'] for node in cyto.graph.nodes]"
   ]
  },
  {
   "cell_type": "code",
   "execution_count": null,
   "id": "8c276ecf-9d28-463d-a457-5f359ab5d8ef",
   "metadata": {},
   "outputs": [],
   "source": [
    "display(cyto)"
   ]
  },
  {
   "cell_type": "code",
   "execution_count": null,
   "id": "a7f28452-b340-47b1-908d-83a19d91baf1",
   "metadata": {},
   "outputs": [],
   "source": [
    "# removing the first node, with id '0', also ends up removing \n",
    "# the subsequent nodes from the displayed graph.  There is clearly a bug in play\n",
    "# and presumably no one is actually using post-display mutations with ipyctoscape.\n",
    "cyto.graph.remove_node_by_id('0')"
   ]
  },
  {
   "cell_type": "code",
   "execution_count": null,
   "id": "a41266dd-738d-46d6-8364-be2fec22c0f1",
   "metadata": {},
   "outputs": [],
   "source": []
  }
 ],
 "metadata": {
  "kernelspec": {
   "display_name": "Python 3 (ipykernel)",
   "language": "python",
   "name": "python3"
  },
  "language_info": {
   "codemirror_mode": {
    "name": "ipython",
    "version": 3
   },
   "file_extension": ".py",
   "mimetype": "text/x-python",
   "name": "python",
   "nbconvert_exporter": "python",
   "pygments_lexer": "ipython3",
   "version": "3.13.2"
  }
 },
 "nbformat": 4,
 "nbformat_minor": 5
}
